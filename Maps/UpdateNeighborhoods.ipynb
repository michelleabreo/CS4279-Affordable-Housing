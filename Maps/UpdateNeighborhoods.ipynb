{
 "cells": [
  {
   "cell_type": "markdown",
   "metadata": {},
   "source": [
    "# Notebook to filter Nashville GeoJSON file\n",
    "\n",
    "The neighborhood information provided by Zillow provides a lot of different neighborhoods.  In fact, it even includes some neightborhoods outside the Davidson county area. Currently, we have been parsing through the relevant boundaries manually in Javascript in the HTML file, but in this notebook we'll create a new geoJSON file only containing the neighborhoods we wish to display."
   ]
  },
  {
   "cell_type": "code",
   "execution_count": 1,
   "metadata": {},
   "outputs": [],
   "source": [
    "import pygeoj\n",
    "import pandas as pd"
   ]
  },
  {
   "cell_type": "code",
   "execution_count": 2,
   "metadata": {},
   "outputs": [],
   "source": [
    "neighborhoods = pygeoj.load(filepath=\"Zillow_Neighborhoods.geojson\")\n",
    "davidson = pd.read_csv(\"davidson_counties.csv\", dtype=str, usecols=['RegionID'])"
   ]
  },
  {
   "cell_type": "code",
   "execution_count": 3,
   "metadata": {},
   "outputs": [
    {
     "name": "stdout",
     "output_type": "stream",
     "text": [
      "Our original geoJSON file has 798 neighborhoods.\n",
      "Our Davidson County file contains 662 neighborhoods.\n"
     ]
    }
   ],
   "source": [
    "print(\"Our original geoJSON file has %s neighborhoods.\" %len(neighborhoods))\n",
    "print(\"Our Davidson County file contains %s neighborhoods.\" %len(davidson))"
   ]
  },
  {
   "cell_type": "code",
   "execution_count": 4,
   "metadata": {},
   "outputs": [],
   "source": [
    "filtered_json = pygeoj.new()\n",
    "for feature in neighborhoods:\n",
    "    if(davidson['RegionID'].str.contains(feature.properties['RegionID']).any()):\n",
    "         filtered_json.add_feature(feature)"
   ]
  },
  {
   "cell_type": "code",
   "execution_count": 5,
   "metadata": {},
   "outputs": [
    {
     "name": "stdout",
     "output_type": "stream",
     "text": [
      "Our new file will have information for 662 neighborhoods.\n"
     ]
    }
   ],
   "source": [
    "print(\"Our new file will have information for %s neighborhoods.\" % len(filtered_json))"
   ]
  },
  {
   "cell_type": "code",
   "execution_count": 6,
   "metadata": {},
   "outputs": [],
   "source": [
    "filtered_json.add_all_bboxes()\n",
    "filtered_json.update_bbox()\n",
    "filtered_json.add_unique_id()\n",
    "filtered_json.save(\"Updated_Zillow.geojson\")"
   ]
  }
 ],
 "metadata": {
  "kernelspec": {
   "display_name": "Python 3",
   "language": "python",
   "name": "python3"
  },
  "language_info": {
   "codemirror_mode": {
    "name": "ipython",
    "version": 3
   },
   "file_extension": ".py",
   "mimetype": "text/x-python",
   "name": "python",
   "nbconvert_exporter": "python",
   "pygments_lexer": "ipython3",
   "version": "3.7.1"
  }
 },
 "nbformat": 4,
 "nbformat_minor": 2
}
